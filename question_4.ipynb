{
 "cells": [
  {
   "cell_type": "code",
   "execution_count": 1,
   "metadata": {},
   "outputs": [],
   "source": [
    "import numpy as np\n",
    "\n",
    "def phi_function(x):\n",
    "    return \n"
   ]
  },
  {
   "cell_type": "code",
   "execution_count": null,
   "metadata": {},
   "outputs": [],
   "source": [
    "%%time\n",
    "\n",
    "def kernel_function(x,y):\n",
    "    return np.square(np.dot(x,y)+1)\n",
    " \n",
    "dataset = np.random.randint(0, 10, (20000,20))\n",
    "gram_matrix = []\n",
    "for i in range(20000):\n",
    "    for j in range(20000):\n",
    "        gram_matrix.append(kernel_function(dataset[i], dataset[j]))\n",
    "\n",
    "\n",
    "print(gram_matrix)\n",
    "\n",
    "\n"
   ]
  }
 ],
 "metadata": {
  "kernelspec": {
   "display_name": "Python 3",
   "language": "python",
   "name": "python3"
  },
  "language_info": {
   "codemirror_mode": {
    "name": "ipython",
    "version": 3
   },
   "file_extension": ".py",
   "mimetype": "text/x-python",
   "name": "python",
   "nbconvert_exporter": "python",
   "pygments_lexer": "ipython3",
   "version": "3.7.1"
  }
 },
 "nbformat": 4,
 "nbformat_minor": 2
}
